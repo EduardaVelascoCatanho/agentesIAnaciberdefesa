{
  "nbformat": 4,
  "nbformat_minor": 0,
  "metadata": {
    "colab": {
      "provenance": [],
      "authorship_tag": "ABX9TyPcnRxhZu29RfzKda2Brzwd",
      "include_colab_link": true
    },
    "kernelspec": {
      "name": "python3",
      "display_name": "Python 3"
    },
    "language_info": {
      "name": "python"
    }
  },
  "cells": [
    {
      "cell_type": "markdown",
      "metadata": {
        "id": "view-in-github",
        "colab_type": "text"
      },
      "source": [
        "<a href=\"https://colab.research.google.com/github/EduardaVelascoCatanho/agentesIAnaciberdefesa/blob/main/projetoIA.ipynb\" target=\"_parent\"><img src=\"https://colab.research.google.com/assets/colab-badge.svg\" alt=\"Open In Colab\"/></a>"
      ]
    },
    {
      "cell_type": "code",
      "execution_count": 56,
      "metadata": {
        "collapsed": true,
        "id": "G_AaHn1FTKhH"
      },
      "outputs": [],
      "source": [
        "!pip -q install google-genai"
      ]
    },
    {
      "cell_type": "code",
      "source": [
        "import os\n",
        "from google.colab import userdata\n",
        "\n",
        "os.environ['GOOGLE_API_KEY'] = userdata.get('GOOGLE_API_KEY')"
      ],
      "metadata": {
        "id": "_RHDyjjyeSst"
      },
      "execution_count": 57,
      "outputs": []
    },
    {
      "cell_type": "code",
      "source": [
        "\n",
        "from google import genai\n",
        "\n",
        "client = genai.Client()\n",
        "\n",
        "MODEL_ID = \"gemini-2.0-flash\""
      ],
      "metadata": {
        "id": "2dZfBzFs20C3"
      },
      "execution_count": 58,
      "outputs": []
    },
    {
      "cell_type": "code",
      "source": [],
      "metadata": {
        "id": "D-EL-KAs3GEI"
      },
      "execution_count": 58,
      "outputs": []
    },
    {
      "cell_type": "code",
      "source": [
        "#Instalar o Agent Development Kit\n",
        "\n",
        "!pip -q install google-adk"
      ],
      "metadata": {
        "id": "AxQjS4tar2sH"
      },
      "execution_count": 59,
      "outputs": []
    },
    {
      "cell_type": "code",
      "source": [
        "from google.adk.agents import Agent\n",
        "from google.adk.runners import Runner\n",
        "from google.adk.sessions import InMemorySessionService\n",
        "from google.adk.tools import google_search\n",
        "from google.genai import types #Isso vai criar conteúdo tipo ocorreu na aula 4\n",
        "from datetime import date\n",
        "import textwrap #Formatar a saída de texto\n",
        "from IPython.display import display, Markdown #Exibir texto formatado no Google Colab\n",
        "import requests #Para requisições HTTP (veja se pode limitar isso a HTTPS)\n",
        "import warnings\n",
        "\n",
        "warnings.filterwarnings('ignore')"
      ],
      "metadata": {
        "id": "vWdUa4sCsN2h"
      },
      "execution_count": 60,
      "outputs": []
    },
    {
      "cell_type": "code",
      "source": [
        "def call_agent(agent: Agent, message_text: str) -> str:\n",
        "    #Serviço de sessão em memória\n",
        "    session_service = InMemorySessionService()\n",
        "    #Cria nova sessão, permite personalizar ID conforme necessário\n",
        "    session_id = \"session\" # Use o mesmo ID aqui\n",
        "    session = session_service.create_session(app_name=agent.name, user_id=\"user\", session_id=session_id)\n",
        "    #Cria um runner para o agente\n",
        "    runner = Runner(agent=agent, app_name=agent.name, session_service=session_service)\n",
        "    #Cria o conteúdo da mensagem de entrada\n",
        "    content = types.Content(role=\"user\", parts=[types.Part(text=message_text)])\n",
        "    final_response = \"\"\n",
        "    #Itera assincronamente  pelos eventos retornados durante a execução do agente\n",
        "    for event in runner.run(user_id=\"user\", session_id=session_id, new_message=content): # Use o mesmo ID aqui\n",
        "        if event.is_final_response():\n",
        "            for part in event.content.parts:\n",
        "                if part.text is not None:\n",
        "                    final_response += part.text\n",
        "                    final_response += \"\\n\"\n",
        "    return final_response\n"
      ],
      "metadata": {
        "id": "EuuTSIC3aaq5"
      },
      "execution_count": 93,
      "outputs": []
    },
    {
      "cell_type": "code",
      "source": [
        "# FUNÇÃO AUXILIAR PARA EXIBIR TEXTO FORMATADO EM MARKDOWN\n",
        "\n",
        "def to_markdown(text):\n",
        "  text = text.replace('•', '  *')\n",
        "  return Markdown(textwrap.indent(text, '> ', predicate=lambda _: True))"
      ],
      "metadata": {
        "id": "RhtivRoYpadC"
      },
      "execution_count": 79,
      "outputs": []
    },
    {
      "cell_type": "code",
      "source": [
        "##########################################\n",
        "# --- Agente 1:  Buscador de Notícias --- #\n",
        "##########################################\n",
        "\n",
        "def agente_buscador(topico, data_de_hoje):\n",
        "  buscador = Agent(\n",
        "      name=\"agente_buscador\",\n",
        "      model=\"gemini-2.0-flash\",\n",
        "      instruction=\"\"\"\n",
        "      Você é um assistente virtual especializado em cibersegurança. Sua principal\n",
        "      função é fornecer notícias, informações, análises e dicas relevantes sobre\n",
        "      o cenário da segurança cibernética. Responda de forma clara, concisa e acessível,\n",
        "      adaptando o nível de detalhe à pergunta do usuário. Mantenha-se atualizado com as\n",
        "      últimas tendências, ameaças, vulnerabilidades, melhores práticas e ferramentas de\n",
        "      segurança. Ao fornecer informações, cite suas fontes ou no que você está baseando\n",
        "      sua resposta.\n",
        "      Quando estiver referindo-se a um ataque ou tipo de ataque lembre-se de explicitar a natureza\n",
        "       do ataque, a vulnerabilidade explorada, os principais afetados e quais medidas de contenção\n",
        "       foram adotadas\n",
        "       \"\"\",\n",
        "      description=\"Agente que busca, no Google, informações sobre cibersegurança\",\n",
        "      tools=[google_search]\n",
        "  )\n",
        "\n",
        "  entrada_do_agente_buscador = f\"Tópico: {topico}\\nData de hoje: {data_de_hoje}\"\n",
        "\n",
        "  lancamentos = call_agent(buscador, entrada_do_agente_buscador)\n",
        "  return lancamentos"
      ],
      "metadata": {
        "id": "sV5idTc51EhX"
      },
      "execution_count": 80,
      "outputs": []
    },
    {
      "cell_type": "code",
      "source": [
        "################################\n",
        "# --- Agente 2: Farejador --- #\n",
        "################################\n",
        "\n",
        "def agente_farejador(topico, documentacao):\n",
        "  farejador = Agent(\n",
        "      name=\"agente_farejador\",\n",
        "      model=\"gemini-2.0-flash\",\n",
        "      instruction= \"\"\" Você é o Agente Farejador, um especialista em segurança de código.\n",
        "      Sua principal tarefa é analisar os pedaços de código que o usuário te enviar e comparar\n",
        "      esses códigos com a documentação oficial das tecnologias e bibliotecas que aparecem neles.\n",
        "      Você vai receber pedaços de código e, com muita atenção, COMPARAR com a documentação. Seu\n",
        "      dever é encontrar todo e qualquer bug ou trecho malicioso que possa comprometer a segurança\n",
        "      dos envolvidos. Você fareja falhas que vão além do convencional, como por exemplo práticas que\n",
        "      a documentação não recomenda.\n",
        "      Encontrando a falha, você irá explicar qual é o problema encontrado (e fará isso de um jeito claro\n",
        "      e explicíto), evidênciando onde está a falha.\n",
        "       Quando possível destaque trechos da documentação oficial.\n",
        "       Sempre forneça sugestões de como consertar o código, fazer manutenção e/ou melhorar a sintaxe.\n",
        "      \"\"\",\n",
        "      description=\"Agente que fareja falhas que possam comprometer a segurança\",\n",
        "      tools=[google_search]\n",
        "  )\n",
        "\n",
        "  entrada_do_agente_farejador = f\"Tópico: {topico}\\nLançamentos buscados: {documentacao}\"\n",
        "  falha = call_agent(farejador, entrada_do_agente_farejador)\n",
        "  return falha"
      ],
      "metadata": {
        "id": "-rRDJCy56_hT"
      },
      "execution_count": 96,
      "outputs": []
    },
    {
      "cell_type": "code",
      "source": [
        "######################################\n",
        "# --- Agente 3: Relatório Forense --- #\n",
        "######################################\n",
        "def agente_redator(topico, relatorio):\n",
        "  redator = Agent(\n",
        "      name=\"agente_redator\",\n",
        "      model=\"gemini-2.5-pro-preview-03-25\",\n",
        "      instruction=\"\"\"\n",
        "      Você é um agente especializado na elaboração de relatórios forenses de incidentes de\n",
        "      cibersegurança. Sua tarefa é analisar dados e informações fornecidas sobre um ataque\n",
        "      cibernético e gerar um relatório completo e objetivo. O relatório deve detalhar todas as\n",
        "      fases do incidente, o impacto, as evidências coletadas e as recomendações para prevenção futura.\n",
        "\n",
        "      Instruções Específicas para o Relatório:\n",
        "      Ao gerar o relatório, inclua as seguintes seções e informações, utilizando sempre uma linguagem clara,\n",
        "      concisa e profissional:\n",
        "\n",
        "      1. SUMÁRIO EXECUTIVO --> Forneça um resumo conciso do incidente, incluindo o tipo de ataque, os ativos afetados\n",
        "      e um escopo geral da situação;\n",
        "      2. INTRODUÇÃO --> Declare o propósito do relatório e o contexto do incidente, identifique a organização afetada,\n",
        "      data e hora em que o incidente foi identificado, mencione quem solicitou a investigação e se já é possível mesurar danos,\n",
        "      sempre diferencie ataque de tentativa de ataque, já indicando sistemas comprometidos (se houver algum);\n",
        "      3. METODOLOGIA --> Descreva os métodos e ferramentas utilizados na investigação forense, liste as fontes de informação e\n",
        "      evidências analisadas(logs, tráfego de rede, imagens de disco, etc), explique como/onde/com quem a cadeia de custódia das\n",
        "      evidências foi mantida (se aplicável);\n",
        "      4. DETALHES DO INCIDENTE -->\n",
        "       Linha do tempo: apresente uma cronologia detalhada dos eventos do ataque, desde a detecção até a contenção e erradicação,\n",
        "       Vetor do ataque: explique como o ataque provavelmente ocorreu (phising, exploração de vulnerabilidade, Man-in-the-Middle, etc)\n",
        "       Técnicas, táticas e procedimentos (TTPs): descreva o comportamento do atacante durante o incidente, referenciando frameworks (caso\n",
        "       tenha sido possível reconstruir e correr simulação do evento),\n",
        "       Malware/Ferramentas utilizadas (se aplicável): identifique todo e qualquer software malicioso ou ferramenta de ataques utilizados,\n",
        "       inclua nomes, hashes e funcionalidades conhecidas,\n",
        "       Sistemas e dados comprometidos: liste todos os sistemas, aplicativos e dados que se tem conhecimento de que foram afetados pelo\n",
        "       ataque. Detalhe também o nível de comprometimento (acesso, modificação, exfiltração...),\n",
        "       Impacto: avalie o impacto do incidente em termos financeiros, operacionais, de reputação e de conformidade regulatória (por exemplo,\n",
        "       um ataque de negação de serviço a uma determinada plataforma pode interromper o fluxo de operações e afastar clientes, o que será refletido\n",
        "       a médio e longo prazo, sendo preciso certo tempo para que a plataforma recupere-se do incidente não só em termos operacionais),\n",
        "       5. ANÁLISE DE EVIDÊNCIAS --> Analise as evidencias digitais coletadas e explique como elas suportam as conclusões sobre o vetor de ataque, as\n",
        "       TTPs e os ativos comprometidos, inclua também trechos relevantes de logs (se aplicável), análise de tráfego de rede (se aplicável) ou quaisquer\n",
        "       outras evidências que sirvam para embasar, de forma concisa, sua análise,\n",
        "       6. ATRIBUIÇÃO (se aplicável e com ressalvas) --> se houver evidências que aponte para a autoria do ataque (grupo, indivíduo, estado-nação),\n",
        "       apresente essas evidências (sempre com cautela), reconhecendo as dificuldades da atribuição definitiva, mencionando motivações (pessoais? financeiras?),\n",
        "       7. RECOMENDAÇÔES --> forneça recomendações específicas e acionáveis para mitigar as vulnerabilidades exploradas, as identificadas e de que maneira\n",
        "       prevenir futuros incidentes semelhantes. As recomendações devem ser categorizadas (por exemplo: segurança de rede, segurança de endpoints, treinamento de\n",
        "       usuários, processos de resposta a incidentes) e também devem seguir a metodologia aplicada ao processo de investigação forense,\n",
        "       8. CONCLUSÃO --> finalização do relatório,\n",
        "       9. APÊNDICE (quando aplicável) --> fontes e informações adicionais.\n",
        "\n",
        "       \"\"\"\n",
        "  )\n",
        "\n",
        "  entrada_do_agente_redator = f\"Tópico: {topico}\\nRelatório: {relatorio}\"\n",
        "  relatorio_final = call_agent(redator, entrada_do_agente_redator)\n",
        "  return relatorio_final\n"
      ],
      "metadata": {
        "id": "2-E3sZjvHwpQ"
      },
      "execution_count": 90,
      "outputs": []
    },
    {
      "cell_type": "code",
      "source": [
        "from google.genai import types\n",
        "\n",
        "chat_config = types.GenerateContentConfig(\n",
        "    system_instruction='Você é um assistente pessoal e você sempre responde de forma sucinta'\n",
        "\n",
        ")\n",
        "modelo = \"gemini-2.0-flash\"\n",
        "chat = client.chats.create(model=modelo, config=chat_config)"
      ],
      "metadata": {
        "id": "cCBaruMKP__9"
      },
      "execution_count": 86,
      "outputs": []
    },
    {
      "cell_type": "code",
      "source": [
        "# Pergunte ao Gemini uma informação mais recente que seu conhecimento\n",
        "\n",
        "from IPython.display import HTML, Markdown\n",
        "\n",
        "#Pergunta genérica\n",
        "response = client.models.generate_content(\n",
        "    model=MODEL_ID,\n",
        "    contents='Quando é a próxima Imersão IA com o Google Gemini da Alura?',\n",
        "    config={\"tools\": [{\"google_search\": {}}]}\n",
        ")\n",
        "\n",
        "display(Markdown(f\"Response:\\n {response.text}\"))"
      ],
      "metadata": {
        "colab": {
          "base_uri": "https://localhost:8080/",
          "height": 122
        },
        "id": "eOFrxLAuJBIt",
        "outputId": "4abf289b-67d9-4166-fe91-9ea7b8200bf5"
      },
      "execution_count": 70,
      "outputs": [
        {
          "output_type": "display_data",
          "data": {
            "text/plain": [
              "<IPython.core.display.Markdown object>"
            ],
            "text/markdown": "Response:\n A Imersão IA com Google Gemini mais recente ocorreu de 12 a 16 de maio de 2025. As inscrições para esta edição estavam abertas até 11 de maio de 2025.\n\nA Imersão IA é um curso online e gratuito, realizado em parceria entre o Google e a Alura. O curso é voltado para profissionais de todas as áreas e não exige conhecimento prévio. As aulas ensinam a criar prompts eficazes, automatizar tarefas e desenvolver agentes autônomos. Ao final do curso, os participantes recebem um certificado da Alura e do Google.\n"
          },
          "metadata": {}
        }
      ]
    },
    {
      "cell_type": "markdown",
      "source": [
        "# 🕵️‍♂️ Relatório Forense de Incidente de Cibersegurança 🕵️‍♀️\n",
        "\n",
        "## 🗓️ Data do Incidente: INSERIR DATA E HORA\n",
        "## 🏢 Organização Afetada: INSERIR NOME DA ORGANIZAÇÃO\n",
        "## 👤 Investigador Responsável: SEU NOME/NOME DO AGENTE REDATOR\n",
        "\n",
        "---\n",
        "\n",
        "## 🎯 Sumário Executivo\n",
        "\n",
        "> INSERIR UM RESUMO CONCISO DO INCIDENTE. Mencione o tipo de ataque, os principais ativos afetados e o impacto geral em poucas frases. Destaque as conclusões mais importantes e as principais recomendações.\n",
        "\n",
        "---\n",
        "\n",
        "## 📜 1. Introdução\n",
        "\n",
        "> DECLARE O PROPÓSITO DESTE RELATÓRIO E O CONTEXTO DO INCIDENTE. Explique brevemente o que aconteceu e por que esta investigação foi conduzida. Mencione quem solicitou a investigação e a data em que ela começou.\n",
        "\n",
        "> **Data e Hora da Identificação:** INSERIR DATA E HORA\n",
        "> **Solicitado Por:** INSERIR QUEM SOLICITOU\n",
        "> **Danos Iniciais Estimados:** SE JÁ HOUVER UMA ESTIMATIVA\n",
        "> **Status:** ATAQUE CONFIRMADO / TENTATIVA DE ATAQUE\n",
        "> **Sistemas Inicialmente Comprometidos (se aplicável):** LISTAR SISTEMAS\n",
        "\n",
        "---\n",
        "\n",
        "## ⚙️ 2. Metodologia\n",
        "\n",
        "> DESCREVA OS MÉTODOS E AS FERRAMENTAS UTILIZADAS NA INVESTIGAÇÃO FORENSE. Liste as principais fontes de informação e evidências analisadas, como logs, tráfego de rede e imagens de disco. Explique brevemente como a cadeia de custódia das evidências foi mantida.\n",
        "\n",
        "> **Ferramentas Utilizadas:** LISTAR FERRAMENTAS\n",
        "> **Fontes de Evidência:** LISTAR FONTES (Logs de Servidores, Firewalls, etc.)\n",
        "> **Cadeia de Custódia:** BREVE DESCRIÇÃO\n",
        "\n",
        "---\n",
        "\n",
        "## 💥 3. Detalhes do Incidente\n",
        "\n",
        "### ⏱️ 3.1 Linha do Tempo dos Eventos\n",
        "\n",
        "> APRESENTE UMA CRONOLOGIA DETALHADA DOS EVENTOS DO ATAQUE, DESDE A DETECÇÃO ATÉ A CONTENÇÃO E ERRADICAÇÃO. Use uma lista para facilitar a leitura.\n",
        "\n",
        "> - **DATA E HORA:** [DESCRIÇÃO DO EVENTO]\n",
        "> - **DATA E HORA:** [DESCRIÇÃO DO EVENTO]\n",
        "> - ...\n",
        "\n",
        "### ➡️ 3.2 Vetor do Ataque\n",
        "\n",
        "> [EXPLIQUE COMO O ATAQUE PROVAVELMENTE OCORREU. Detalhe o método de entrada inicial (phishing, exploração de vulnerabilidade, etc.).]\n",
        "\n",
        "> **Método de Entrada:** PHISHING / EXPLORAÇÃO DE VULNERABILIDADE / ...\n",
        "> **Vulnerabilidade Explorada (se conhecida):** CVE-XXXX-XXXX / DESCRIÇÃO\n",
        "\n",
        "### 🛡️ 3.3 Técnicas, Táticas e Procedimentos (TTPs)\n",
        "\n",
        "> DESCREVA O COMPORTAMENTO DO ATACANTE DURANTE O INCIDENTE. Se aplicável, mencione as fases do ataque e as técnicas utilizadas, referenciando frameworks como o MITRE ATT&CK.\n",
        "\n",
        "> **Fase Inicial:** DESCRIÇÃO DAS AÇÕES\n",
        "> **Movimentação Lateral:** DESCRIÇÃO DAS AÇÕES\n",
        "> **Escalonamento de Privilégios:** DESCRIÇÃO DAS AÇÕES\n",
        "> **Persistência:** DESCRIÇÃO DAS AÇÕES\n",
        "> **Exfiltração de Dados (se aplicável):** DESCRIÇÃO\n",
        "\n",
        "### 🦠 3.4 Malware e Ferramentas Utilizadas\n",
        "\n",
        "> IDENTIFIQUE QUALQUER SOFTWARE MALICIOSO OU FERRAMENTA DE ATAQUE UTILIZADA. Inclua nomes, hashes (se disponíveis) e funcionalidades conhecidas.\n",
        "\n",
        "> **Nome do Malware:** NOME DO MALWARE (se conhecido)\n",
        "> **Hash (MD5/SHA256):** HASH DO ARQUIVO (se disponível)\n",
        "> **Funcionalidades:** DESCRIÇÃO DO QUE O MALWARE FAZ\n",
        "> **Outras Ferramentas:** LISTAR OUTRAS FERRAMENTAS UTILIZADAS\n",
        "\n",
        "### 💻 3.5 Sistemas e Dados Comprometidos\n",
        "\n",
        "> LISTE TODOS OS SISTEMAS, APLICATIVOS E TIPOS DE DADOS QUE FORAM AFETADOS PELO ATAQUE. Detalhe o nível de comprometimento para cada um.\n",
        "\n",
        "> **Servidores:** LISTA DE SERVIDORES E NÍVEL DE COMPROMETIMENTO\n",
        "> **Estações de Trabalho:** LISTA DE ESTAÇÕES E NÍVEL DE COMPROMETIMENTO\n",
        "> **Bancos de Dados:** LISTA DE BANCOS E NÍVEL DE COMPROMETIMENTO\n",
        "> **Tipos de Dados Afetados:** PII, FINANCEIROS, SEGREDOS COMERCIAIS, ...\n",
        "> **Volume de Dados Afetados (estimativa):** TAMANHO APROXIMADO\n",
        "\n",
        "### 📉 3.6 Impacto do Incidente\n",
        "\n",
        "> AVALIE O IMPACTO DO INCIDENTE EM TERMOS FINANCEIROS, OPERACIONAIS, DE REPUTAÇÃO E DE CONFORMIDADE REGULATÓRIA.\n",
        "\n",
        "> **Impacto Financeiro (estimativa):** VALOR\n",
        "> **Impacto Operacional:** DESCRIÇÃO DA INTERRUPÇÃO DE SERVIÇOS\n",
        "> **Impacto na Reputação:** DESCRIÇÃO DOS DANOS À IMAGEM\n",
        "> **Impacto na Conformidade:** MENÇÃO A POSSÍVEIS VIOLAÇÕES REGULATÓRIAS\n",
        "\n",
        "---\n",
        "\n",
        "## 🔍 4. Análise das Evidências\n",
        "\n",
        "> ANALISE AS EVIDÊNCIAS DIGITAIS COLETADAS E EXPLIQUE COMO ELAS SUSTENTAM AS CONCLUSÕES SOBRE O VETOR DE ATAQUE, AS TTPs E OS ATIVOS COMPROMETIDOS. Inclua trechos relevantes de logs ou outras evidências de forma concisa.\n",
        "\n",
        "> **Análise de Logs:** RESUMO DAS PRINCIPAIS OBSERVAÇÕES NOS LOGS\n",
        "> **Análise de Tráfego de Rede:** RESUMO DAS PRINCIPAIS OBSERVAÇÕES NO TRÁFEGO\n",
        "> **Outras Evidências:** ANÁLISE DE OUTROS ARTEFATOS\n",
        "\n",
        "---\n",
        "\n",
        "## 👤 5. Atribuição (se aplicável)\n",
        "\n",
        "> SE HOUVER EVIDÊNCIAS QUE APONTEM PARA UM POSSÍVEL ATOR DE AMEAÇA, APRESENTE ESSAS EVIDÊNCIAS COM CAUTELA, RECONHECENDO AS DIFICULDADES DA ATRIBUIÇÃO DEFINITIVA. Mencione motivações potenciais.\n",
        "\n",
        "> **Possível Ator de Ameaça:** NOME DO GRUPO/INDIVÍDUO (SE CONHECIDO)\n",
        "> **Indicadores de Atribuição:** EVIDÊNCIAS QUE SUGEREM A ATRIBUIÇÃO\n",
        "> **Motivação Potencial:** FINANCEIRA / POLÍTICA / ...\n",
        "\n",
        "---\n",
        "\n",
        "## 🛡️ 6. Recomendações\n",
        "\n",
        "> FORNEÇA RECOMENDAÇÕES ESPECÍFICAS E ACIONÁVEIS PARA MITIGAR AS VULNERABILIDADES EXPLORADAS E PREVENIR FUTUROS INCIDENTES SEMELHANTES. Categorize as recomendações.\n",
        "\n",
        "### 🌐 6.1 Segurança de Rede\n",
        "\n",
        "> - RECOMENDAÇÃO 1\n",
        "> - RECOMENDAÇÃO 2\n",
        "> - ...\n",
        "\n",
        "### 💻 6.2 Segurança de Endpoints\n",
        "\n",
        "> - RECOMENDAÇÃO 1\n",
        "> - RECOMENDAÇÃO 2\n",
        "> - ...\n",
        "\n",
        "### 🧑‍🏫 6.3 Treinamento de Usuários\n",
        "\n",
        "> - RECOMENDAÇÃO 1\n",
        "> - RECOMENDAÇÃO 2\n",
        "> - ...\n",
        "\n",
        "### 🚨 6.4 Processos de Resposta a Incidentes\n",
        "\n",
        "> - RECOMENDAÇÃO 1\n",
        "> - RECOMENDAÇÃO 2\n",
        "> - ...\n",
        "\n",
        "---\n",
        "\n",
        "##   7. Conclusão\n",
        "\n",
        "> REITERE AS PRINCIPAIS DESCOBERTAS DO RELATÓRIO E ENFATIZE A IMPORTÂNCIA DAS RECOMENDAÇÕES PARA FORTALECER A POSTURA DE SEGURANÇA DA ORGANIZAÇÃO.\n",
        "\n",
        "---\n",
        "\n",
        "## 📚 8. Apêndices (se aplicável)\n",
        "\n",
        "> INCLUA INFORMAÇÕES ADICIONAIS, COMO LOGS RESUMIDOS, DETALHES TÉCNICOS OU GLOSSÁRIO.\n",
        "\n",
        "> - ITEM DO APÊNDICE 1\n",
        "> - ITEM DO APÊNDICE 2\n",
        "> - ..."
      ],
      "metadata": {
        "id": "nB5C5UtbqNJh"
      }
    },
    {
      "cell_type": "code",
      "source": [
        "################################################\n",
        "# --- Inserir lógica do sistema de agentes --- #\n",
        "################################################\n",
        "topico = input(\"Sobre o que gostaria de falar? \")\n",
        "if not topico:\n",
        "    print(\"Você esqueceu de digitar o tema!\")\n",
        "else:\n",
        "    print(f\"Ótimo, hora da diversão analisando o: {topico}\")\n",
        "\n",
        "    data_de_hoje = date.today().strftime(\"%Y-%m-%d\") # Garante que data_de_hoje esteja definida\n",
        "\n",
        "    lancamentos = agente_buscador(topico, data_de_hoje)\n",
        "    documentacao = lancamentos\n",
        "    print(\"\\n--- 📝 Resultado do Agente 1 (Buscador) ---\\n\")\n",
        "    display(to_markdown(lancamentos))\n",
        "    print(\"--------------------------------------------------------------\")\n",
        "\n",
        "\n",
        "    if 'documentacao' in locals(): # Verifica se a variável foi definida\n",
        "        falha = agente_farejador(topico, documentacao)\n",
        "        print(\"\\n--- 📝 Resultado do Agente 2 (Farejador) ---\\n\")\n",
        "        display(to_markdown(falha))\n",
        "        print(\"--------------------------------------------------------------\")\n",
        "\n",
        "        relatorio = falha\n",
        "        relatorio_final = agente_redator(topico, relatorio)\n",
        "        print(\"\\n--- 📝 Resultado do Agente 3 (Redator) ---\\n\")\n",
        "        display(to_markdown(relatorio_final))\n",
        "        print(\"--------------------------------------------------------------\")\n",
        "    else:\n",
        "        print(\"\\n--- ⚠️ Aviso: Deu ruim\")"
      ],
      "metadata": {
        "id": "kd4R5zjfYLNo"
      },
      "execution_count": null,
      "outputs": []
    },
    {
      "cell_type": "code",
      "source": [],
      "metadata": {
        "id": "H3RWGO0arw9e"
      },
      "execution_count": null,
      "outputs": []
    }
  ]
}