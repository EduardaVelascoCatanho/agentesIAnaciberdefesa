{
  "nbformat": 4,
  "nbformat_minor": 0,
  "metadata": {
    "colab": {
      "provenance": [],
      "authorship_tag": "ABX9TyP0uo5J4JWithWNoAUAEWCB",
      "include_colab_link": true
    },
    "kernelspec": {
      "name": "python3",
      "display_name": "Python 3"
    },
    "language_info": {
      "name": "python"
    }
  },
  "cells": [
    {
      "cell_type": "markdown",
      "metadata": {
        "id": "view-in-github",
        "colab_type": "text"
      },
      "source": [
        "<a href=\"https://colab.research.google.com/github/EduardaVelascoCatanho/agentesIAnaciberdefesa/blob/main/projetoIA.ipynb\" target=\"_parent\"><img src=\"https://colab.research.google.com/assets/colab-badge.svg\" alt=\"Open In Colab\"/></a>"
      ]
    },
    {
      "cell_type": "code",
      "execution_count": 56,
      "metadata": {
        "collapsed": true,
        "id": "G_AaHn1FTKhH"
      },
      "outputs": [],
      "source": [
        "!pip -q install google-genai"
      ]
    },
    {
      "cell_type": "code",
      "source": [
        "import os\n",
        "from google.colab import userdata\n",
        "\n",
        "os.environ['GOOGLE_API_KEY'] = userdata.get('GOOGLE_API_KEY')"
      ],
      "metadata": {
        "id": "_RHDyjjyeSst"
      },
      "execution_count": 57,
      "outputs": []
    },
    {
      "cell_type": "code",
      "source": [
        "\n",
        "from google import genai\n",
        "\n",
        "client = genai.Client()\n",
        "\n",
        "MODEL_ID = \"gemini-2.0-flash\""
      ],
      "metadata": {
        "id": "2dZfBzFs20C3"
      },
      "execution_count": 58,
      "outputs": []
    },
    {
      "cell_type": "code",
      "source": [],
      "metadata": {
        "id": "D-EL-KAs3GEI"
      },
      "execution_count": 58,
      "outputs": []
    },
    {
      "cell_type": "code",
      "source": [
        "#Instalar o Agent Development Kit\n",
        "\n",
        "!pip -q install google-adk"
      ],
      "metadata": {
        "id": "AxQjS4tar2sH"
      },
      "execution_count": 59,
      "outputs": []
    },
    {
      "cell_type": "code",
      "source": [
        "from google.adk.agents import Agent\n",
        "from google.adk.runners import Runner\n",
        "from google.adk.sessions import InMemorySessionService\n",
        "from google.adk.tools import google_search\n",
        "from google.genai import types #Isso vai criar conteúdo tipo ocorreu na aula 4\n",
        "from datetime import date\n",
        "import textwrap #Formatar a saída de texto\n",
        "from IPython.display import display, Markdown #Exibir texto formatado no Google Colab\n",
        "import requests #Para requisições HTTP (veja se pode limitar isso a HTTPS)\n",
        "import warnings\n",
        "\n",
        "warnings.filterwarnings('ignore')"
      ],
      "metadata": {
        "id": "vWdUa4sCsN2h"
      },
      "execution_count": 60,
      "outputs": []
    },
    {
      "cell_type": "code",
      "source": [
        "def call_agent(agent: Agent, message_text: str) -> str:\n",
        "    #Serviço de sessão em memória\n",
        "    session_service = InMemorySessionService()\n",
        "    #Cria nova sessão, permite personalizar ID conforme necessário\n",
        "    session_id = \"session\" # Use o mesmo ID aqui\n",
        "    session = session_service.create_session(app_name=agent.name, user_id=\"user\", session_id=session_id)\n",
        "    #Cria um runner para o agente\n",
        "    runner = Runner(agent=agent, app_name=agent.name, session_service=session_service)\n",
        "    #Cria o conteúdo da mensagem de entrada\n",
        "    content = types.Content(role=\"user\", parts=[types.Part(text=message_text)])\n",
        "    final_response = \"\"\n",
        "    #Itera assincronamente  pelos eventos retornados durante a execução do agente\n",
        "    for event in runner.run(user_id=\"user\", session_id=session_id, new_message=content): # Use o mesmo ID aqui\n",
        "        if event.is_final_response():\n",
        "            for part in event.content.parts:\n",
        "                if part.text is not None:\n",
        "                    final_response += part.text\n",
        "                    final_response += \"\\n\"\n",
        "    return final_response\n"
      ],
      "metadata": {
        "id": "EuuTSIC3aaq5"
      },
      "execution_count": 93,
      "outputs": []
    },
    {
      "cell_type": "code",
      "source": [
        "# FUNÇÃO AUXILIAR PARA EXIBIR TEXTO FORMATADO EM MARKDOWN\n",
        "\n",
        "def to_markdown(text):\n",
        "  text = text.replace('•', '  *')\n",
        "  return Markdown(textwrap.indent(text, '> ', predicate=lambda _: True))"
      ],
      "metadata": {
        "id": "RhtivRoYpadC"
      },
      "execution_count": 79,
      "outputs": []
    },
    {
      "cell_type": "code",
      "source": [
        "##########################################\n",
        "# --- Agente 1:  Buscador de Notícias --- #\n",
        "##########################################\n",
        "\n",
        "def agente_buscador(topico, data_de_hoje):\n",
        "  buscador = Agent(\n",
        "      name=\"agente_buscador\",\n",
        "      model=\"gemini-2.0-flash\",\n",
        "      instruction=\"\"\"\n",
        "      Você é um assistente virtual especializado em cibersegurança. Sua principal\n",
        "      função é fornecer notícias, informações, análises e dicas relevantes sobre\n",
        "      o cenário da segurança cibernética. Responda de forma clara, concisa e acessível,\n",
        "      adaptando o nível de detalhe à pergunta do usuário. Mantenha-se atualizado com as\n",
        "      últimas tendências, ameaças, vulnerabilidades, melhores práticas e ferramentas de\n",
        "      segurança. Ao fornecer informações, cite suas fontes ou no que você está baseando\n",
        "      sua resposta.\n",
        "      Quando estiver referindo-se a um ataque ou tipo de ataque lembre-se de explicitar a natureza\n",
        "       do ataque, a vulnerabilidade explorada, os principais afetados e quais medidas de contenção\n",
        "       foram adotadas\n",
        "       \"\"\",\n",
        "      description=\"Agente que busca, no Google, informações sobre cibersegurança\",\n",
        "      tools=[google_search]\n",
        "  )\n",
        "\n",
        "  entrada_do_agente_buscador = f\"Tópico: {topico}\\nData de hoje: {data_de_hoje}\"\n",
        "\n",
        "  lancamentos = call_agent(buscador, entrada_do_agente_buscador)\n",
        "  return lancamentos"
      ],
      "metadata": {
        "id": "sV5idTc51EhX"
      },
      "execution_count": 80,
      "outputs": []
    },
    {
      "cell_type": "code",
      "source": [
        "################################\n",
        "# --- Agente 2: Farejador --- #\n",
        "################################\n",
        "\n",
        "def agente_farejador(topico, documentacao):\n",
        "  farejador = Agent(\n",
        "      name=\"agente_farejador\",\n",
        "      model=\"gemini-2.0-flash\",\n",
        "      instruction= \"\"\" Você é o Agente Farejador, um especialista em segurança de código.\n",
        "      Sua principal tarefa é analisar os pedaços de código que o usuário te enviar e comparar\n",
        "      esses códigos com a documentação oficial das tecnologias e bibliotecas que aparecem neles.\n",
        "      Você vai receber pedaços de código e, com muita atenção, COMPARAR com a documentação. Seu\n",
        "      dever é encontrar todo e qualquer bug ou trecho malicioso que possa comprometer a segurança\n",
        "      dos envolvidos. Você fareja falhas que vão além do convencional, como por exemplo práticas que\n",
        "      a documentação não recomenda.\n",
        "      Encontrando a falha, você irá explicar qual é o problema encontrado (e fará isso de um jeito claro\n",
        "      e explicíto), evidênciando onde está a falha.\n",
        "       Quando possível destaque trechos da documentação oficial.\n",
        "       Sempre forneça sugestões de como consertar o código, fazer manutenção e/ou melhorar a sintaxe.\n",
        "      \"\"\",\n",
        "      description=\"Agente que fareja falhas que possam comprometer a segurança\",\n",
        "      tools=[google_search]\n",
        "  )\n",
        "\n",
        "  entrada_do_agente_farejador = f\"Tópico: {topico}\\nLançamentos buscados: {documentacao}\"\n",
        "  falha = call_agent(farejador, entrada_do_agente_farejador)\n",
        "  return falha"
      ],
      "metadata": {
        "id": "-rRDJCy56_hT"
      },
      "execution_count": 96,
      "outputs": []
    },
    {
      "cell_type": "code",
      "source": [
        "######################################\n",
        "# --- Agente 3: Relatório Forense --- #\n",
        "######################################\n",
        "def agente_redator(topico, relatorio):\n",
        "  redator = Agent(\n",
        "      name=\"agente_redator\",\n",
        "      model=\"gemini-2.5-pro-preview-03-25\",\n",
        "      instruction=\"\"\"\n",
        "      Você é um agente especializado na elaboração de relatórios forenses de incidentes de\n",
        "      cibersegurança. Sua tarefa é analisar dados e informações fornecidas sobre um ataque\n",
        "      cibernético e gerar um relatório completo e objetivo. O relatório deve detalhar todas as\n",
        "      fases do incidente, o impacto, as evidências coletadas e as recomendações para prevenção futura.\n",
        "\n",
        "      Instruções Específicas para o Relatório:\n",
        "      Ao gerar o relatório, inclua as seguintes seções e informações, utilizando sempre uma linguagem clara,\n",
        "      concisa e profissional:\n",
        "\n",
        "      1. SUMÁRIO EXECUTIVO --> Forneça um resumo conciso do incidente, incluindo o tipo de ataque, os ativos afetados\n",
        "      e um escopo geral da situação;\n",
        "      2. INTRODUÇÃO --> Declare o propósito do relatório e o contexto do incidente, identifique a organização afetada,\n",
        "      data e hora em que o incidente foi identificado, mencione quem solicitou a investigação e se já é possível mesurar danos,\n",
        "      sempre diferencie ataque de tentativa de ataque, já indicando sistemas comprometidos (se houver algum);\n",
        "      3. METODOLOGIA --> Descreva os métodos e ferramentas utilizados na investigação forense, liste as fontes de informação e\n",
        "      evidências analisadas(logs, tráfego de rede, imagens de disco, etc), explique como/onde/com quem a cadeia de custódia das\n",
        "      evidências foi mantida (se aplicável);\n",
        "      4. DETALHES DO INCIDENTE -->\n",
        "       Linha do tempo: apresente uma cronologia detalhada dos eventos do ataque, desde a detecção até a contenção e erradicação,\n",
        "       Vetor do ataque: explique como o ataque provavelmente ocorreu (phising, exploração de vulnerabilidade, Man-in-the-Middle, etc)\n",
        "       Técnicas, táticas e procedimentos (TTPs): descreva o comportamento do atacante durante o incidente, referenciando frameworks (caso\n",
        "       tenha sido possível reconstruir e correr simulação do evento),\n",
        "       Malware/Ferramentas utilizadas (se aplicável): identifique todo e qualquer software malicioso ou ferramenta de ataques utilizados,\n",
        "       inclua nomes, hashes e funcionalidades conhecidas,\n",
        "       Sistemas e dados comprometidos: liste todos os sistemas, aplicativos e dados que se tem conhecimento de que foram afetados pelo\n",
        "       ataque. Detalhe também o nível de comprometimento (acesso, modificação, exfiltração...),\n",
        "       Impacto: avalie o impacto do incidente em termos financeiros, operacionais, de reputação e de conformidade regulatória (por exemplo,\n",
        "       um ataque de negação de serviço a uma determinada plataforma pode interromper o fluxo de operações e afastar clientes, o que será refletido\n",
        "       a médio e longo prazo, sendo preciso certo tempo para que a plataforma recupere-se do incidente não só em termos operacionais),\n",
        "       5. ANÁLISE DE EVIDÊNCIAS --> Analise as evidencias digitais coletadas e explique como elas suportam as conclusões sobre o vetor de ataque, as\n",
        "       TTPs e os ativos comprometidos, inclua também trechos relevantes de logs (se aplicável), análise de tráfego de rede (se aplicável) ou quaisquer\n",
        "       outras evidências que sirvam para embasar, de forma concisa, sua análise,\n",
        "       6. ATRIBUIÇÃO (se aplicável e com ressalvas) --> se houver evidências que aponte para a autoria do ataque (grupo, indivíduo, estado-nação),\n",
        "       apresente essas evidências (sempre com cautela), reconhecendo as dificuldades da atribuição definitiva, mencionando motivações (pessoais? financeiras?),\n",
        "       7. RECOMENDAÇÔES --> forneça recomendações específicas e acionáveis para mitigar as vulnerabilidades exploradas, as identificadas e de que maneira\n",
        "       prevenir futuros incidentes semelhantes. As recomendações devem ser categorizadas (por exemplo: segurança de rede, segurança de endpoints, treinamento de\n",
        "       usuários, processos de resposta a incidentes) e também devem seguir a metodologia aplicada ao processo de investigação forense,\n",
        "       8. CONCLUSÃO --> finalização do relatório,\n",
        "       9. APÊNDICE (quando aplicável) --> fontes e informações adicionais.\n",
        "\n",
        "       \"\"\"\n",
        "  )\n",
        "\n",
        "  entrada_do_agente_redator = f\"Tópico: {topico}\\nRelatório: {relatorio}\"\n",
        "  relatorio_final = call_agent(redator, entrada_do_agente_redator)\n",
        "  return relatorio_final\n"
      ],
      "metadata": {
        "id": "2-E3sZjvHwpQ"
      },
      "execution_count": 90,
      "outputs": []
    },
    {
      "cell_type": "code",
      "source": [
        "from google.genai import types\n",
        "\n",
        "chat_config = types.GenerateContentConfig(\n",
        "    system_instruction='Você é um assistente pessoal e você sempre responde de forma sucinta'\n",
        "\n",
        ")\n",
        "modelo = \"gemini-2.0-flash\"\n",
        "chat = client.chats.create(model=modelo, config=chat_config)"
      ],
      "metadata": {
        "id": "cCBaruMKP__9"
      },
      "execution_count": 86,
      "outputs": []
    },
    {
      "cell_type": "code",
      "source": [
        "resposta = chat.send_message('O que é computação quântica')\n",
        "resposta.text"
      ],
      "metadata": {
        "colab": {
          "base_uri": "https://localhost:8080/",
          "height": 52
        },
        "id": "XMGpBCyYaPF4",
        "outputId": "57a23273-e089-4b7c-8cff-4f1047080de3"
      },
      "execution_count": 68,
      "outputs": [
        {
          "output_type": "execute_result",
          "data": {
            "text/plain": [
              "'A computação quântica é um novo paradigma de computação que usa as propriedades da mecânica quântica para resolver problemas complexos que estão além das capacidades dos computadores clássicos.'"
            ],
            "application/vnd.google.colaboratory.intrinsic+json": {
              "type": "string"
            }
          },
          "metadata": {},
          "execution_count": 68
        }
      ]
    },
    {
      "cell_type": "code",
      "source": [
        "# Pergunte ao Gemini uma informação mais recente que seu conhecimento\n",
        "\n",
        "from IPython.display import HTML, Markdown\n",
        "\n",
        "#Pergunta genérica\n",
        "response = client.models.generate_content(\n",
        "    model=MODEL_ID,\n",
        "    contents='Quando é a próxima Imersão IA com o Google Gemini da Alura?',\n",
        "    config={\"tools\": [{\"google_search\": {}}]}\n",
        ")\n",
        "\n",
        "display(Markdown(f\"Response:\\n {response.text}\"))"
      ],
      "metadata": {
        "colab": {
          "base_uri": "https://localhost:8080/",
          "height": 122
        },
        "id": "eOFrxLAuJBIt",
        "outputId": "4abf289b-67d9-4166-fe91-9ea7b8200bf5"
      },
      "execution_count": 70,
      "outputs": [
        {
          "output_type": "display_data",
          "data": {
            "text/plain": [
              "<IPython.core.display.Markdown object>"
            ],
            "text/markdown": "Response:\n A Imersão IA com Google Gemini mais recente ocorreu de 12 a 16 de maio de 2025. As inscrições para esta edição estavam abertas até 11 de maio de 2025.\n\nA Imersão IA é um curso online e gratuito, realizado em parceria entre o Google e a Alura. O curso é voltado para profissionais de todas as áreas e não exige conhecimento prévio. As aulas ensinam a criar prompts eficazes, automatizar tarefas e desenvolver agentes autônomos. Ao final do curso, os participantes recebem um certificado da Alura e do Google.\n"
          },
          "metadata": {}
        }
      ]
    },
    {
      "cell_type": "code",
      "source": [
        "# Exibe a busca e as URLS envolvidas\n",
        "print(f\"Busca realizada: {response.candidates[0].grounding_metadata.web_search_queries}\")\n",
        "print(f\"Páginas utilizadas na resposta: {', '.join([site.web.title for site in response.candidates[0].grounding_metadata.grounding_chunks])}\")\n",
        "print()\n",
        "display(HTML(response.candidates[0].grounding_metadata.search_entry_point.rendered_content))"
      ],
      "metadata": {
        "colab": {
          "base_uri": "https://localhost:8080/",
          "height": 116
        },
        "id": "yksqNJohVDvF",
        "outputId": "a4bcdb1b-6d6c-4ac6-e5af-76f1bdcc12df"
      },
      "execution_count": 71,
      "outputs": [
        {
          "output_type": "stream",
          "name": "stdout",
          "text": [
            "Busca realizada: ['próxima imersão IA com Google Gemini Alura']\n",
            "Páginas utilizadas na resposta: starten.tech, youtube.com, alura.com.br\n",
            "\n"
          ]
        },
        {
          "output_type": "display_data",
          "data": {
            "text/plain": [
              "<IPython.core.display.HTML object>"
            ],
            "text/html": [
              "<style>\n",
              ".container {\n",
              "  align-items: center;\n",
              "  border-radius: 8px;\n",
              "  display: flex;\n",
              "  font-family: Google Sans, Roboto, sans-serif;\n",
              "  font-size: 14px;\n",
              "  line-height: 20px;\n",
              "  padding: 8px 12px;\n",
              "}\n",
              ".chip {\n",
              "  display: inline-block;\n",
              "  border: solid 1px;\n",
              "  border-radius: 16px;\n",
              "  min-width: 14px;\n",
              "  padding: 5px 16px;\n",
              "  text-align: center;\n",
              "  user-select: none;\n",
              "  margin: 0 8px;\n",
              "  -webkit-tap-highlight-color: transparent;\n",
              "}\n",
              ".carousel {\n",
              "  overflow: auto;\n",
              "  scrollbar-width: none;\n",
              "  white-space: nowrap;\n",
              "  margin-right: -12px;\n",
              "}\n",
              ".headline {\n",
              "  display: flex;\n",
              "  margin-right: 4px;\n",
              "}\n",
              ".gradient-container {\n",
              "  position: relative;\n",
              "}\n",
              ".gradient {\n",
              "  position: absolute;\n",
              "  transform: translate(3px, -9px);\n",
              "  height: 36px;\n",
              "  width: 9px;\n",
              "}\n",
              "@media (prefers-color-scheme: light) {\n",
              "  .container {\n",
              "    background-color: #fafafa;\n",
              "    box-shadow: 0 0 0 1px #0000000f;\n",
              "  }\n",
              "  .headline-label {\n",
              "    color: #1f1f1f;\n",
              "  }\n",
              "  .chip {\n",
              "    background-color: #ffffff;\n",
              "    border-color: #d2d2d2;\n",
              "    color: #5e5e5e;\n",
              "    text-decoration: none;\n",
              "  }\n",
              "  .chip:hover {\n",
              "    background-color: #f2f2f2;\n",
              "  }\n",
              "  .chip:focus {\n",
              "    background-color: #f2f2f2;\n",
              "  }\n",
              "  .chip:active {\n",
              "    background-color: #d8d8d8;\n",
              "    border-color: #b6b6b6;\n",
              "  }\n",
              "  .logo-dark {\n",
              "    display: none;\n",
              "  }\n",
              "  .gradient {\n",
              "    background: linear-gradient(90deg, #fafafa 15%, #fafafa00 100%);\n",
              "  }\n",
              "}\n",
              "@media (prefers-color-scheme: dark) {\n",
              "  .container {\n",
              "    background-color: #1f1f1f;\n",
              "    box-shadow: 0 0 0 1px #ffffff26;\n",
              "  }\n",
              "  .headline-label {\n",
              "    color: #fff;\n",
              "  }\n",
              "  .chip {\n",
              "    background-color: #2c2c2c;\n",
              "    border-color: #3c4043;\n",
              "    color: #fff;\n",
              "    text-decoration: none;\n",
              "  }\n",
              "  .chip:hover {\n",
              "    background-color: #353536;\n",
              "  }\n",
              "  .chip:focus {\n",
              "    background-color: #353536;\n",
              "  }\n",
              "  .chip:active {\n",
              "    background-color: #464849;\n",
              "    border-color: #53575b;\n",
              "  }\n",
              "  .logo-light {\n",
              "    display: none;\n",
              "  }\n",
              "  .gradient {\n",
              "    background: linear-gradient(90deg, #1f1f1f 15%, #1f1f1f00 100%);\n",
              "  }\n",
              "}\n",
              "</style>\n",
              "<div class=\"container\">\n",
              "  <div class=\"headline\">\n",
              "    <svg class=\"logo-light\" width=\"18\" height=\"18\" viewBox=\"9 9 35 35\" fill=\"none\" xmlns=\"http://www.w3.org/2000/svg\">\n",
              "      <path fill-rule=\"evenodd\" clip-rule=\"evenodd\" d=\"M42.8622 27.0064C42.8622 25.7839 42.7525 24.6084 42.5487 23.4799H26.3109V30.1568H35.5897C35.1821 32.3041 33.9596 34.1222 32.1258 35.3448V39.6864H37.7213C40.9814 36.677 42.8622 32.2571 42.8622 27.0064V27.0064Z\" fill=\"#4285F4\"/>\n",
              "      <path fill-rule=\"evenodd\" clip-rule=\"evenodd\" d=\"M26.3109 43.8555C30.9659 43.8555 34.8687 42.3195 37.7213 39.6863L32.1258 35.3447C30.5898 36.3792 28.6306 37.0061 26.3109 37.0061C21.8282 37.0061 18.0195 33.9811 16.6559 29.906H10.9194V34.3573C13.7563 39.9841 19.5712 43.8555 26.3109 43.8555V43.8555Z\" fill=\"#34A853\"/>\n",
              "      <path fill-rule=\"evenodd\" clip-rule=\"evenodd\" d=\"M16.6559 29.8904C16.3111 28.8559 16.1074 27.7588 16.1074 26.6146C16.1074 25.4704 16.3111 24.3733 16.6559 23.3388V18.8875H10.9194C9.74388 21.2072 9.06992 23.8247 9.06992 26.6146C9.06992 29.4045 9.74388 32.022 10.9194 34.3417L15.3864 30.8621L16.6559 29.8904V29.8904Z\" fill=\"#FBBC05\"/>\n",
              "      <path fill-rule=\"evenodd\" clip-rule=\"evenodd\" d=\"M26.3109 16.2386C28.85 16.2386 31.107 17.1164 32.9095 18.8091L37.8466 13.8719C34.853 11.082 30.9659 9.3736 26.3109 9.3736C19.5712 9.3736 13.7563 13.245 10.9194 18.8875L16.6559 23.3388C18.0195 19.2636 21.8282 16.2386 26.3109 16.2386V16.2386Z\" fill=\"#EA4335\"/>\n",
              "    </svg>\n",
              "    <svg class=\"logo-dark\" width=\"18\" height=\"18\" viewBox=\"0 0 48 48\" xmlns=\"http://www.w3.org/2000/svg\">\n",
              "      <circle cx=\"24\" cy=\"23\" fill=\"#FFF\" r=\"22\"/>\n",
              "      <path d=\"M33.76 34.26c2.75-2.56 4.49-6.37 4.49-11.26 0-.89-.08-1.84-.29-3H24.01v5.99h8.03c-.4 2.02-1.5 3.56-3.07 4.56v.75l3.91 2.97h.88z\" fill=\"#4285F4\"/>\n",
              "      <path d=\"M15.58 25.77A8.845 8.845 0 0 0 24 31.86c1.92 0 3.62-.46 4.97-1.31l4.79 3.71C31.14 36.7 27.65 38 24 38c-5.93 0-11.01-3.4-13.45-8.36l.17-1.01 4.06-2.85h.8z\" fill=\"#34A853\"/>\n",
              "      <path d=\"M15.59 20.21a8.864 8.864 0 0 0 0 5.58l-5.03 3.86c-.98-2-1.53-4.25-1.53-6.64 0-2.39.55-4.64 1.53-6.64l1-.22 3.81 2.98.22 1.08z\" fill=\"#FBBC05\"/>\n",
              "      <path d=\"M24 14.14c2.11 0 4.02.75 5.52 1.98l4.36-4.36C31.22 9.43 27.81 8 24 8c-5.93 0-11.01 3.4-13.45 8.36l5.03 3.85A8.86 8.86 0 0 1 24 14.14z\" fill=\"#EA4335\"/>\n",
              "    </svg>\n",
              "    <div class=\"gradient-container\"><div class=\"gradient\"></div></div>\n",
              "  </div>\n",
              "  <div class=\"carousel\">\n",
              "    <a class=\"chip\" href=\"https://vertexaisearch.cloud.google.com/grounding-api-redirect/AbF9wXFlXT4lgc3kYhL4Roe-mcXfHxZpLeKSBqcP9kkX6UvqroVLijPbOpCmtWIsUWZNzRnUkwq0Ln5tma2rPMdUZ9_XXbt3WCSXckK4DjcqPR9dF8ZRqZpXStdTtYxSACNC0CQHtHJPKJ-6j6eROgL4n0Pljv2NpWMxvCxvGceeRv2_MyyowkhtGCLbPdr_nmp6xQEXMtURNBTNMnVe3ra2MPI37UEhW7WJsajXbvZE7VIx4gZKCXPQboPX\">próxima imersão IA com Google Gemini Alura</a>\n",
              "  </div>\n",
              "</div>\n"
            ]
          },
          "metadata": {}
        }
      ]
    },
    {
      "cell_type": "markdown",
      "source": [
        "# 🕵️‍♂️ Relatório Forense de Incidente de Cibersegurança 🕵️‍♀️\n",
        "\n",
        "## 🗓️ Data do Incidente: INSERIR DATA E HORA\n",
        "## 🏢 Organização Afetada: INSERIR NOME DA ORGANIZAÇÃO\n",
        "## 👤 Investigador Responsável: SEU NOME/NOME DO AGENTE REDATOR\n",
        "\n",
        "---\n",
        "\n",
        "## 🎯 Sumário Executivo\n",
        "\n",
        "> INSERIR UM RESUMO CONCISO DO INCIDENTE. Mencione o tipo de ataque, os principais ativos afetados e o impacto geral em poucas frases. Destaque as conclusões mais importantes e as principais recomendações.\n",
        "\n",
        "---\n",
        "\n",
        "## 📜 1. Introdução\n",
        "\n",
        "> DECLARE O PROPÓSITO DESTE RELATÓRIO E O CONTEXTO DO INCIDENTE. Explique brevemente o que aconteceu e por que esta investigação foi conduzida. Mencione quem solicitou a investigação e a data em que ela começou.\n",
        "\n",
        "> **Data e Hora da Identificação:** INSERIR DATA E HORA\n",
        "> **Solicitado Por:** INSERIR QUEM SOLICITOU\n",
        "> **Danos Iniciais Estimados:** SE JÁ HOUVER UMA ESTIMATIVA\n",
        "> **Status:** ATAQUE CONFIRMADO / TENTATIVA DE ATAQUE\n",
        "> **Sistemas Inicialmente Comprometidos (se aplicável):** LISTAR SISTEMAS\n",
        "\n",
        "---\n",
        "\n",
        "## ⚙️ 2. Metodologia\n",
        "\n",
        "> DESCREVA OS MÉTODOS E AS FERRAMENTAS UTILIZADAS NA INVESTIGAÇÃO FORENSE. Liste as principais fontes de informação e evidências analisadas, como logs, tráfego de rede e imagens de disco. Explique brevemente como a cadeia de custódia das evidências foi mantida.\n",
        "\n",
        "> **Ferramentas Utilizadas:** LISTAR FERRAMENTAS\n",
        "> **Fontes de Evidência:** LISTAR FONTES (Logs de Servidores, Firewalls, etc.)\n",
        "> **Cadeia de Custódia:** BREVE DESCRIÇÃO\n",
        "\n",
        "---\n",
        "\n",
        "## 💥 3. Detalhes do Incidente\n",
        "\n",
        "### ⏱️ 3.1 Linha do Tempo dos Eventos\n",
        "\n",
        "> APRESENTE UMA CRONOLOGIA DETALHADA DOS EVENTOS DO ATAQUE, DESDE A DETECÇÃO ATÉ A CONTENÇÃO E ERRADICAÇÃO. Use uma lista para facilitar a leitura.\n",
        "\n",
        "> - **DATA E HORA:** [DESCRIÇÃO DO EVENTO]\n",
        "> - **DATA E HORA:** [DESCRIÇÃO DO EVENTO]\n",
        "> - ...\n",
        "\n",
        "### ➡️ 3.2 Vetor do Ataque\n",
        "\n",
        "> [EXPLIQUE COMO O ATAQUE PROVAVELMENTE OCORREU. Detalhe o método de entrada inicial (phishing, exploração de vulnerabilidade, etc.).]\n",
        "\n",
        "> **Método de Entrada:** PHISHING / EXPLORAÇÃO DE VULNERABILIDADE / ...\n",
        "> **Vulnerabilidade Explorada (se conhecida):** CVE-XXXX-XXXX / DESCRIÇÃO\n",
        "\n",
        "### 🛡️ 3.3 Técnicas, Táticas e Procedimentos (TTPs)\n",
        "\n",
        "> DESCREVA O COMPORTAMENTO DO ATACANTE DURANTE O INCIDENTE. Se aplicável, mencione as fases do ataque e as técnicas utilizadas, referenciando frameworks como o MITRE ATT&CK.\n",
        "\n",
        "> **Fase Inicial:** DESCRIÇÃO DAS AÇÕES\n",
        "> **Movimentação Lateral:** DESCRIÇÃO DAS AÇÕES\n",
        "> **Escalonamento de Privilégios:** DESCRIÇÃO DAS AÇÕES\n",
        "> **Persistência:** DESCRIÇÃO DAS AÇÕES\n",
        "> **Exfiltração de Dados (se aplicável):** DESCRIÇÃO\n",
        "\n",
        "### 🦠 3.4 Malware e Ferramentas Utilizadas\n",
        "\n",
        "> IDENTIFIQUE QUALQUER SOFTWARE MALICIOSO OU FERRAMENTA DE ATAQUE UTILIZADA. Inclua nomes, hashes (se disponíveis) e funcionalidades conhecidas.\n",
        "\n",
        "> **Nome do Malware:** NOME DO MALWARE (se conhecido)\n",
        "> **Hash (MD5/SHA256):** HASH DO ARQUIVO (se disponível)\n",
        "> **Funcionalidades:** DESCRIÇÃO DO QUE O MALWARE FAZ\n",
        "> **Outras Ferramentas:** LISTAR OUTRAS FERRAMENTAS UTILIZADAS\n",
        "\n",
        "### 💻 3.5 Sistemas e Dados Comprometidos\n",
        "\n",
        "> LISTE TODOS OS SISTEMAS, APLICATIVOS E TIPOS DE DADOS QUE FORAM AFETADOS PELO ATAQUE. Detalhe o nível de comprometimento para cada um.\n",
        "\n",
        "> **Servidores:** LISTA DE SERVIDORES E NÍVEL DE COMPROMETIMENTO\n",
        "> **Estações de Trabalho:** LISTA DE ESTAÇÕES E NÍVEL DE COMPROMETIMENTO\n",
        "> **Bancos de Dados:** LISTA DE BANCOS E NÍVEL DE COMPROMETIMENTO\n",
        "> **Tipos de Dados Afetados:** PII, FINANCEIROS, SEGREDOS COMERCIAIS, ...\n",
        "> **Volume de Dados Afetados (estimativa):** TAMANHO APROXIMADO\n",
        "\n",
        "### 📉 3.6 Impacto do Incidente\n",
        "\n",
        "> AVALIE O IMPACTO DO INCIDENTE EM TERMOS FINANCEIROS, OPERACIONAIS, DE REPUTAÇÃO E DE CONFORMIDADE REGULATÓRIA.\n",
        "\n",
        "> **Impacto Financeiro (estimativa):** VALOR\n",
        "> **Impacto Operacional:** DESCRIÇÃO DA INTERRUPÇÃO DE SERVIÇOS\n",
        "> **Impacto na Reputação:** DESCRIÇÃO DOS DANOS À IMAGEM\n",
        "> **Impacto na Conformidade:** MENÇÃO A POSSÍVEIS VIOLAÇÕES REGULATÓRIAS\n",
        "\n",
        "---\n",
        "\n",
        "## 🔍 4. Análise das Evidências\n",
        "\n",
        "> ANALISE AS EVIDÊNCIAS DIGITAIS COLETADAS E EXPLIQUE COMO ELAS SUSTENTAM AS CONCLUSÕES SOBRE O VETOR DE ATAQUE, AS TTPs E OS ATIVOS COMPROMETIDOS. Inclua trechos relevantes de logs ou outras evidências de forma concisa.\n",
        "\n",
        "> **Análise de Logs:** RESUMO DAS PRINCIPAIS OBSERVAÇÕES NOS LOGS\n",
        "> **Análise de Tráfego de Rede:** RESUMO DAS PRINCIPAIS OBSERVAÇÕES NO TRÁFEGO\n",
        "> **Outras Evidências:** ANÁLISE DE OUTROS ARTEFATOS\n",
        "\n",
        "---\n",
        "\n",
        "## 👤 5. Atribuição (se aplicável)\n",
        "\n",
        "> SE HOUVER EVIDÊNCIAS QUE APONTEM PARA UM POSSÍVEL ATOR DE AMEAÇA, APRESENTE ESSAS EVIDÊNCIAS COM CAUTELA, RECONHECENDO AS DIFICULDADES DA ATRIBUIÇÃO DEFINITIVA. Mencione motivações potenciais.\n",
        "\n",
        "> **Possível Ator de Ameaça:** NOME DO GRUPO/INDIVÍDUO (SE CONHECIDO)\n",
        "> **Indicadores de Atribuição:** EVIDÊNCIAS QUE SUGEREM A ATRIBUIÇÃO\n",
        "> **Motivação Potencial:** FINANCEIRA / POLÍTICA / ...\n",
        "\n",
        "---\n",
        "\n",
        "## 🛡️ 6. Recomendações\n",
        "\n",
        "> FORNEÇA RECOMENDAÇÕES ESPECÍFICAS E ACIONÁVEIS PARA MITIGAR AS VULNERABILIDADES EXPLORADAS E PREVENIR FUTUROS INCIDENTES SEMELHANTES. Categorize as recomendações.\n",
        "\n",
        "### 🌐 6.1 Segurança de Rede\n",
        "\n",
        "> - RECOMENDAÇÃO 1\n",
        "> - RECOMENDAÇÃO 2\n",
        "> - ...\n",
        "\n",
        "### 💻 6.2 Segurança de Endpoints\n",
        "\n",
        "> - RECOMENDAÇÃO 1\n",
        "> - RECOMENDAÇÃO 2\n",
        "> - ...\n",
        "\n",
        "### 🧑‍🏫 6.3 Treinamento de Usuários\n",
        "\n",
        "> - RECOMENDAÇÃO 1\n",
        "> - RECOMENDAÇÃO 2\n",
        "> - ...\n",
        "\n",
        "### 🚨 6.4 Processos de Resposta a Incidentes\n",
        "\n",
        "> - RECOMENDAÇÃO 1\n",
        "> - RECOMENDAÇÃO 2\n",
        "> - ...\n",
        "\n",
        "---\n",
        "\n",
        "##   7. Conclusão\n",
        "\n",
        "> REITERE AS PRINCIPAIS DESCOBERTAS DO RELATÓRIO E ENFATIZE A IMPORTÂNCIA DAS RECOMENDAÇÕES PARA FORTALECER A POSTURA DE SEGURANÇA DA ORGANIZAÇÃO.\n",
        "\n",
        "---\n",
        "\n",
        "## 📚 8. Apêndices (se aplicável)\n",
        "\n",
        "> INCLUA INFORMAÇÕES ADICIONAIS, COMO LOGS RESUMIDOS, DETALHES TÉCNICOS OU GLOSSÁRIO.\n",
        "\n",
        "> - ITEM DO APÊNDICE 1\n",
        "> - ITEM DO APÊNDICE 2\n",
        "> - ..."
      ],
      "metadata": {
        "id": "nB5C5UtbqNJh"
      }
    },
    {
      "cell_type": "code",
      "source": [
        "################################################\n",
        "# --- Inserir lógica do sistema de agentes --- #\n",
        "################################################\n",
        "topico = input(\"Sobre o que gostaria de falar? \")\n",
        "if not topico:\n",
        "    print(\"Você esqueceu de digitar o tema!\")\n",
        "else:\n",
        "    print(f\"Ótimo, hora da diversão analisando o: {topico}\")\n",
        "\n",
        "    data_de_hoje = date.today().strftime(\"%Y-%m-%d\") # Garante que data_de_hoje esteja definida\n",
        "\n",
        "    lancamentos = agente_buscador(topico, data_de_hoje)\n",
        "    documentacao = lancamentos\n",
        "    print(\"\\n--- 📝 Resultado do Agente 1 (Buscador) ---\\n\")\n",
        "    display(to_markdown(lancamentos))\n",
        "    print(\"--------------------------------------------------------------\")\n",
        "\n",
        "\n",
        "    if 'documentacao' in locals(): # Verifica se a variável foi definida\n",
        "        falha = agente_farejador(topico, documentacao)\n",
        "        print(\"\\n--- 📝 Resultado do Agente 2 (Farejador) ---\\n\")\n",
        "        display(to_markdown(falha))\n",
        "        print(\"--------------------------------------------------------------\")\n",
        "\n",
        "        relatorio = falha\n",
        "        relatorio_final = agente_redator(topico, relatorio)\n",
        "        print(\"\\n--- 📝 Resultado do Agente 3 (Redator) ---\\n\")\n",
        "        display(to_markdown(relatorio_final))\n",
        "        print(\"--------------------------------------------------------------\")\n",
        "    else:\n",
        "        print(\"\\n--- ⚠️ Aviso: Deu ruim\")"
      ],
      "metadata": {
        "colab": {
          "base_uri": "https://localhost:8080/",
          "height": 1000
        },
        "id": "kd4R5zjfYLNo",
        "outputId": "7f5064e9-9830-4759-f8a4-637a0325abd5"
      },
      "execution_count": 99,
      "outputs": [
        {
          "name": "stdout",
          "output_type": "stream",
          "text": [
            "Sobre o que gostaria de falar? porta 22\n"
          ]
        },
        {
          "output_type": "stream",
          "name": "stderr",
          "text": [
            "ERROR:asyncio:Task exception was never retrieved\n",
            "future: <Task finished name='Task-73' coro=<AsyncClient.aclose() done, defined at /usr/local/lib/python3.11/dist-packages/httpx/_client.py:1978> exception=RuntimeError('Event loop is closed')>\n",
            "Traceback (most recent call last):\n",
            "  File \"/usr/local/lib/python3.11/dist-packages/httpx/_client.py\", line 1985, in aclose\n",
            "    await self._transport.aclose()\n",
            "  File \"/usr/local/lib/python3.11/dist-packages/httpx/_transports/default.py\", line 406, in aclose\n",
            "    await self._pool.aclose()\n",
            "  File \"/usr/local/lib/python3.11/dist-packages/httpcore/_async/connection_pool.py\", line 353, in aclose\n",
            "    await self._close_connections(closing_connections)\n",
            "  File \"/usr/local/lib/python3.11/dist-packages/httpcore/_async/connection_pool.py\", line 345, in _close_connections\n",
            "    await connection.aclose()\n",
            "  File \"/usr/local/lib/python3.11/dist-packages/httpcore/_async/connection.py\", line 173, in aclose\n",
            "    await self._connection.aclose()\n",
            "  File \"/usr/local/lib/python3.11/dist-packages/httpcore/_async/http11.py\", line 258, in aclose\n",
            "    await self._network_stream.aclose()\n",
            "  File \"/usr/local/lib/python3.11/dist-packages/httpcore/_backends/anyio.py\", line 53, in aclose\n",
            "    await self._stream.aclose()\n",
            "  File \"/usr/local/lib/python3.11/dist-packages/anyio/streams/tls.py\", line 216, in aclose\n",
            "    await self.transport_stream.aclose()\n",
            "  File \"/usr/local/lib/python3.11/dist-packages/anyio/_backends/_asyncio.py\", line 1314, in aclose\n",
            "    self._transport.close()\n",
            "  File \"/usr/lib/python3.11/asyncio/selector_events.py\", line 864, in close\n",
            "    self._loop.call_soon(self._call_connection_lost, None)\n",
            "  File \"/usr/lib/python3.11/asyncio/base_events.py\", line 762, in call_soon\n",
            "    self._check_closed()\n",
            "  File \"/usr/lib/python3.11/asyncio/base_events.py\", line 520, in _check_closed\n",
            "    raise RuntimeError('Event loop is closed')\n",
            "RuntimeError: Event loop is closed\n"
          ]
        },
        {
          "output_type": "stream",
          "name": "stdout",
          "text": [
            "Ótimo, hora da diversão analisando o: porta 22\n",
            "\n",
            "--- 📝 Resultado do Agente 1 (Buscador) ---\n",
            "\n"
          ]
        },
        {
          "output_type": "display_data",
          "data": {
            "text/plain": [
              "<IPython.core.display.Markdown object>"
            ],
            "text/markdown": "> Olá! Sobre a porta 22, posso te dar algumas informações relevantes sobre ela no contexto da cibersegurança. Para isso, preciso realizar algumas buscas rápidas para garantir que as informações estejam atualizadas.\n> \n> A porta 22 é um canal de comunicação crucial, mas que também exige atenção especial no quesito segurança cibernética. Aqui está um resumo das informações mais importantes sobre ela:\n> \n> **O que é a Porta 22?**\n> \n> *   É a porta padrão para o SSH (Secure Shell), um protocolo que permite o acesso remoto seguro a servidores, transferência de arquivos e outras operações. ([2], [5], [6], [8])\n> \n> **Riscos e Vulnerabilidades**\n> \n> *   **Ataques de força bruta:** Expor a porta 22 diretamente à internet pode torná-la alvo de ataques de força bruta, nos quais hackers tentam adivinhar combinações de nome de usuário e senha para obter acesso não autorizado. ([2], [7])\n> *   **Exploração de vulnerabilidades:** Falhas de segurança no serviço SSH podem ser exploradas para obter acesso indevido a servidores e sistemas. ([7])\n> *   **Acesso não autorizado:** Uma vez comprometida, a porta 22 pode permitir que invasores executem comandos maliciosos, acessem dados sensíveis ou causem outros danos. ([2])\n> \n> **Melhores Práticas de Segurança**\n> \n> *   **Autenticação por chave pública:** Substitua a autenticação por senha pela autenticação por chave pública, que é muito mais resistente a ataques de força bruta. ([2], [4])\n> *   **Firewall e listas de controle de acesso (ACLs):** Configure firewalls para permitir conexões SSH apenas de endereços IP específicos, limitando a superfície de ataque. ([2])\n> *   **Port knocking:** Utilize técnicas de port knocking para abrir a porta 22 apenas quando uma sequência específica de portas é acessada previamente. ([2])\n> *   **Monitoramento e alertas:** Implemente sistemas de monitoramento para detectar tentativas de acesso não autorizado e atividades suspeitas. ([2])\n> *   **Desabilite o login como root:** Edite o arquivo de configuração do SSH para impedir o login direto como usuário root. ([4])\n> *   **Mude a porta padrão:** Altere a porta padrão (22) para uma porta não convencional para dificultar a detecção por parte de invasores. ([4], [8], [13])\n> *   **Mantenha o sistema atualizado:** Aplique patches e atualizações de segurança para corrigir vulnerabilidades conhecidas no SSH e em outros softwares. ([4])\n> *   **Princípio do menor privilégio:** Conceda aos usuários apenas as permissões necessárias para realizar suas tarefas. ([4])\n> *   **Restringir o acesso SSH:** Usar políticas de firewall para restringir a exposição do SSH. ([10])\n> *   **Desativar servidor OpenSSH:** Se você não precisa fornecer o login remoto e recursos de transferência de arquivos do SSH, desabilite e remova o servidor SSHD. ([12])\n> \n> Lembre-se que a segurança da porta 22 é um aspecto crítico da proteção de servidores e sistemas. A implementação dessas práticas recomendadas pode reduzir significativamente o risco de ataques e acesso não autorizado.\n> \n"
          },
          "metadata": {}
        },
        {
          "output_type": "stream",
          "name": "stdout",
          "text": [
            "--------------------------------------------------------------\n",
            "\n",
            "--- 📝 Resultado do Agente 2 (Farejador) ---\n",
            "\n"
          ]
        },
        {
          "output_type": "display_data",
          "data": {
            "text/plain": [
              "<IPython.core.display.Markdown object>"
            ],
            "text/markdown": "> Com certeza! As informações que você forneceu sobre a porta 22 e as práticas de segurança são um ótimo ponto de partida. No entanto, como Agente Farejador, meu objetivo é examinar ainda mais a fundo e identificar potenciais áreas de risco ou melhorias que podem não ser tão óbvias.\n> \n> **Vulnerabilidades e Riscos Adicionais:**\n> \n> *   **Chaves SSH Fracas ou Comprometidas:** Mesmo com autenticação por chave pública, chaves SSH fracas (por exemplo, chaves RSA com menos de 2048 bits) ou chaves que foram comprometidas (roubadas ou expostas) podem ser um grande problema. É crucial garantir a geração de chaves fortes e o armazenamento seguro das chaves privadas.\n>     *   **Recomendação:** Utilize algoritmos de chave mais modernos e robustos, como Ed25519, e revise regularmente as chaves autorizadas, revogando as que não são mais necessárias.\n> *   **Canais Paralelos:** Alguns malwares podem tentar estabelecer canais de comunicação paralelos através da porta 22, \"pegando carona\" em conexões SSH legítimas para exfiltrar dados ou receber comandos.\n>     *   **Recomendação:** Implemente inspeção de tráfego (DPI) e análise comportamental para detectar padrões de comunicação anormais dentro das sessões SSH.\n> *   **Ataques Man-in-the-Middle (MitM):** Usuários desatentos podem ser vítimas de ataques MitM se não verificarem a impressão digital da chave do servidor SSH na primeira conexão.\n>     *   **Recomendação:** Eduque os usuários sobre a importância de verificar a impressão digital da chave SSH e utilize mecanismos como SSHFP em registros DNS para facilitar a verificação.\n> \n> **Melhores Práticas Aprimoradas:**\n> \n> *   **Monitoramento Avançado:** Além de detectar tentativas de acesso não autorizado, o monitoramento deve incluir a análise de logs em busca de eventos suspeitos, como execuções de comandos incomuns, transferências de arquivos grandes ou modificações em arquivos de sistema.\n>     *   **Recomendação:** Utilize ferramentas de SIEM (Security Information and Event Management) para correlacionar eventos de diferentes fontes e identificar padrões de ataque complexos.\n> *   **Autenticação Multifator (MFA):** Adicionar uma segunda camada de autenticação, como um código gerado por um aplicativo no celular, pode aumentar significativamente a segurança, mesmo que a senha ou chave SSH seja comprometida.\n>     *   **Recomendação:** Implemente MFA para todos os usuários com acesso SSH, especialmente aqueles com privilégios elevados.\n> *   ** hardening:** Implementar medidas de \"hardening\" no servidor SSH, como desativar recursos não utilizados, restringir algoritmos de criptografia fracos e configurar limites de tempo de sessão.\n> *   **Rotação de Chaves:** Implementar uma política de rotação de chaves SSH, trocando as chaves regularmente para limitar o tempo de exposição em caso de comprometimento.\n> *   **Uso de Jump Servers:** Em vez de permitir o acesso SSH direto aos servidores, utilize um \"jump server\" (também conhecido como bastion host) como ponto de entrada único. Isso facilita o controle de acesso e o monitoramento.\n> \n> **Trechos da Documentação:**\n> \n> Como a documentação do OpenSSH é extensa, vou destacar alguns pontos relevantes:\n> \n> *   **`man sshd_config`:** Este manual contém todas as opções de configuração do servidor SSH. É essencial revisá-lo para entender todas as opções de hardening disponíveis.\n> *   **`man ssh-keygen`:** Este manual explica como gerar chaves SSH seguras.\n> *   **RFC 4251 a 4254 e RFC 4256:** Estas RFCs definem o protocolo SSH e seus componentes. Embora sejam documentos técnicos, podem ser úteis para entender os detalhes do protocolo.\n> \n> **Exemplo de Configuração:**\n> \n> Aqui está um exemplo de configuração do `sshd_config` com algumas das práticas recomendadas implementadas:\n> \n> \n> ```\n> Port 2222 # Porta não padrão\n> Protocol 2 # Use SSH Protocol versão 2\n> PermitRootLogin no # Desabilita login como root\n> PubkeyAuthentication yes # Autenticação por chave pública\n> AuthorizedKeysFile .ssh/authorized_keys # Caminho para as chaves autorizadas\n> PasswordAuthentication no # Desabilita autenticação por senha\n> ChallengeResponseAuthentication no # Desabilita autenticação por desafio-resposta\n> UsePAM no # Desabilita PAM\n> X11Forwarding no # Desabilita X11 Forwarding\n> AllowUsers usuario1 usuario2 # Permite acesso apenas a usuários específicos\n> TCPKeepAlive yes # Mantém a conexão ativa\n> ClientAliveInterval 300 # Envia um sinal a cada 5 minutos\n> ClientAliveCountMax 0 # Desconecta após inatividade\n> ```\n> \n> \n> Lembre-se que a segurança é um processo contínuo. É importante revisar regularmente as configurações de segurança, monitorar os sistemas e estar atento a novas vulnerabilidades e ameaças.\n"
          },
          "metadata": {}
        },
        {
          "output_type": "stream",
          "name": "stdout",
          "text": [
            "--------------------------------------------------------------\n"
          ]
        },
        {
          "output_type": "stream",
          "name": "stderr",
          "text": [
            "Exception in thread Thread-35 (_asyncio_thread_main):\n",
            "Traceback (most recent call last):\n",
            "  File \"/usr/lib/python3.11/threading.py\", line 1045, in _bootstrap_inner\n",
            "    self.run()\n",
            "  File \"/usr/lib/python3.11/threading.py\", line 982, in run\n",
            "    self._target(*self._args, **self._kwargs)\n",
            "  File \"/usr/local/lib/python3.11/dist-packages/google/adk/runners.py\", line 138, in _asyncio_thread_main\n",
            "    asyncio.run(_invoke_run_async())\n",
            "  File \"/usr/lib/python3.11/asyncio/runners.py\", line 190, in run\n",
            "    return runner.run(main)\n",
            "           ^^^^^^^^^^^^^^^^\n",
            "  File \"/usr/lib/python3.11/asyncio/runners.py\", line 118, in run\n",
            "    return self._loop.run_until_complete(task)\n",
            "           ^^^^^^^^^^^^^^^^^^^^^^^^^^^^^^^^^^^\n",
            "  File \"/usr/lib/python3.11/asyncio/base_events.py\", line 654, in run_until_complete\n",
            "    return future.result()\n",
            "           ^^^^^^^^^^^^^^^\n",
            "  File \"/usr/local/lib/python3.11/dist-packages/google/adk/runners.py\", line 126, in _invoke_run_async\n",
            "    async for event in self.run_async(\n",
            "  File \"/usr/local/lib/python3.11/dist-packages/google/adk/runners.py\", line 197, in run_async\n",
            "    async for event in invocation_context.agent.run_async(invocation_context):\n",
            "  File \"/usr/local/lib/python3.11/dist-packages/google/adk/agents/base_agent.py\", line 133, in run_async\n",
            "    async for event in self._run_async_impl(ctx):\n",
            "  File \"/usr/local/lib/python3.11/dist-packages/google/adk/agents/llm_agent.py\", line 246, in _run_async_impl\n",
            "    async for event in self._llm_flow.run_async(ctx):\n",
            "  File \"/usr/local/lib/python3.11/dist-packages/google/adk/flows/llm_flows/base_llm_flow.py\", line 243, in run_async\n",
            "    async for event in self._run_one_step_async(invocation_context):\n",
            "  File \"/usr/local/lib/python3.11/dist-packages/google/adk/flows/llm_flows/base_llm_flow.py\", line 268, in _run_one_step_async\n",
            "    async for llm_response in self._call_llm_async(\n",
            "  File \"/usr/local/lib/python3.11/dist-packages/google/adk/flows/llm_flows/base_llm_flow.py\", line 483, in _call_llm_async\n",
            "    async for llm_response in llm.generate_content_async(\n",
            "  File \"/usr/local/lib/python3.11/dist-packages/google/adk/models/google_llm.py\", line 140, in generate_content_async\n",
            "    response = await self.api_client.aio.models.generate_content(\n",
            "               ^^^^^^^^^^^^^^^^^^^^^^^^^^^^^^^^^^^^^^^^^^^^^^^^^^\n",
            "  File \"/usr/local/lib/python3.11/dist-packages/google/genai/models.py\", line 6672, in generate_content\n",
            "    response = await self._generate_content(\n",
            "               ^^^^^^^^^^^^^^^^^^^^^^^^^^^^^\n",
            "  File \"/usr/local/lib/python3.11/dist-packages/google/genai/models.py\", line 5674, in _generate_content\n",
            "    response_dict = await self._api_client.async_request(\n",
            "                    ^^^^^^^^^^^^^^^^^^^^^^^^^^^^^^^^^^^^^\n",
            "  File \"/usr/local/lib/python3.11/dist-packages/google/genai/_api_client.py\", line 789, in async_request\n",
            "    result = await self._async_request(http_request=http_request, stream=False)\n",
            "             ^^^^^^^^^^^^^^^^^^^^^^^^^^^^^^^^^^^^^^^^^^^^^^^^^^^^^^^^^^^^^^^^^^\n",
            "  File \"/usr/local/lib/python3.11/dist-packages/google/genai/_api_client.py\", line 733, in _async_request\n",
            "    await errors.APIError.raise_for_async_response(response)\n",
            "  File \"/usr/local/lib/python3.11/dist-packages/google/genai/errors.py\", line 129, in raise_for_async_response\n",
            "    raise ClientError(status_code, response_json, response)\n",
            "google.genai.errors.ClientError: 429 RESOURCE_EXHAUSTED. {'error': {'code': 429, 'message': \"Gemini 2.5 Pro Preview doesn't have a free quota tier. For more information on this error, head to: https://ai.google.dev/gemini-api/docs/rate-limits.\", 'status': 'RESOURCE_EXHAUSTED', 'details': [{'@type': 'type.googleapis.com/google.rpc.QuotaFailure', 'violations': [{'quotaMetric': 'generativelanguage.googleapis.com/generate_content_free_tier_input_token_count', 'quotaId': 'GenerateContentInputTokensPerModelPerMinute-FreeTier', 'quotaDimensions': {'location': 'global', 'model': 'gemini-2.5-pro-exp'}}, {'quotaMetric': 'generativelanguage.googleapis.com/generate_content_free_tier_requests', 'quotaId': 'GenerateRequestsPerMinutePerProjectPerModel-FreeTier', 'quotaDimensions': {'location': 'global', 'model': 'gemini-2.5-pro-exp'}}, {'quotaMetric': 'generativelanguage.googleapis.com/generate_content_free_tier_requests', 'quotaId': 'GenerateRequestsPerDayPerProjectPerModel-FreeTier', 'quotaDimensions': {'location': 'global', 'model': 'gemini-2.5-pro-exp'}}, {'quotaMetric': 'generativelanguage.googleapis.com/generate_content_free_tier_input_token_count', 'quotaId': 'GenerateContentInputTokensPerModelPerDay-FreeTier', 'quotaDimensions': {'location': 'global', 'model': 'gemini-2.5-pro-exp'}}]}, {'@type': 'type.googleapis.com/google.rpc.Help', 'links': [{'description': 'Learn more about Gemini API quotas', 'url': 'https://ai.google.dev/gemini-api/docs/rate-limits'}]}, {'@type': 'type.googleapis.com/google.rpc.RetryInfo', 'retryDelay': '35s'}]}}\n"
          ]
        },
        {
          "output_type": "stream",
          "name": "stdout",
          "text": [
            "\n",
            "--- 📝 Resultado do Agente 3 (Redator) ---\n",
            "\n"
          ]
        },
        {
          "output_type": "display_data",
          "data": {
            "text/plain": [
              "<IPython.core.display.Markdown object>"
            ],
            "text/markdown": ""
          },
          "metadata": {}
        },
        {
          "output_type": "stream",
          "name": "stdout",
          "text": [
            "--------------------------------------------------------------\n"
          ]
        }
      ]
    },
    {
      "cell_type": "code",
      "source": [],
      "metadata": {
        "id": "H3RWGO0arw9e"
      },
      "execution_count": null,
      "outputs": []
    }
  ]
}